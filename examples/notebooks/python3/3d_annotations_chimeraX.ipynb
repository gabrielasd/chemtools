{
 "cells": [
  {
   "cell_type": "markdown",
   "source": [
    "# Annotated 3D structures (using modified PDB & ChimeraX)\n",
    "\n",
    "\n",
    "Package requirements:\n",
    "---------------------\n",
    "Python 3  \n",
    "IOData  \n",
    "Numpy  \n",
    "\n",
    "\n",
    "Goal:\n",
    "-----\n",
    "Make a ChimeraX script to visualize molecules with annotations (e.g. IOData attributes).\n",
    "\n",
    "\n",
    "The process is as follows:\n",
    "1. Use a PDB file format to represent the molecule (fname.pdb) and write the scalar property to be annotated as the `B` factor field (e.g. charges). Since IOData supports PDB files this is an easy task.  \n",
    "2. Save this coordinates file.  \n",
    "2. Write a ChimeraX script that loads the fname.pdb and labels the atoms by the defined `B` factors."
   ],
   "metadata": {
    "collapsed": true,
    "pycharm": {
     "name": "#%% md\n"
    }
   }
  },
  {
   "cell_type": "code",
   "execution_count": 7,
   "source": [
    "#\n",
    "# Import required modules\n",
    "#\n",
    "from os import path\n",
    "import numpy as np\n",
    "from iodata import load_one, dump_one"
   ],
   "outputs": [],
   "metadata": {}
  },
  {
   "cell_type": "markdown",
   "source": [
    "Bellow some auxiliar functions are defined to handle finding the initial molecule file and writing the PDB and ChimeraX scripts."
   ],
   "metadata": {}
  },
  {
   "cell_type": "code",
   "execution_count": 8,
   "source": [
    "def find_datafile(fname):\n",
    "    \"\"\"Path finder helper function \"\"\"\n",
    "    # Construct absolute path and split by package name.\n",
    "    # root = path.abspath(__file__).split(\"chemtools\")[0]\n",
    "    # See stackoverflow solutions for `__file__ does not exist in Jupyter Notebook` \n",
    "    root = os.getcwd().split(\"chemtools\")[0]\n",
    "    DATAPATH = path.join(root, \"chemtools\", \"chemtools\", \"data\", \"examples\", fname)\n",
    "    return path.abspath(DATAPATH)\n",
    "\n",
    "\n",
    "def pdb_assign_bfactors(fname, mol, values):\n",
    "    \"\"\"Write given values as PDB's `B` factor field and dump file.\n",
    "\n",
    "    Parameters\n",
    "    ----------\n",
    "    fname : str\n",
    "        Name of the output PDB file.\n",
    "    mol : iodata.iodata.IOData\n",
    "        `IOData` instance from `iodata` module.\n",
    "    values : list/np.ndarray\n",
    "        A (N,) sequence of float values to be annotated.\n",
    "\n",
    "    Raises\n",
    "    ------\n",
    "    ValueError\n",
    "        If mol is not an IOData instance\n",
    "    TypeError\n",
    "        If values is not a 1D-array with N atoms elements.\n",
    "    \"\"\"\n",
    "    if not (mol.__class__.__name__ == \"IOData\"):\n",
    "        raise ValueError(\"`mol` must be an IOData instance.\")\n",
    "    if not (isinstance(values, np.ndarray) and len(values) == mol.natom and len(values.shape) == 1):\n",
    "        raise TypeError(\"`values` must be a 1D-array of length N atoms.\")\n",
    "    mol.extra[\"bfactors\"] = values\n",
    "    dump_one(data, f\"{fname}.pdb\")\n",
    "\n",
    "\n",
    "def print_cx_script_annotations(scriptfile, pdbfile):\n",
    "    \"\"\"Write CX (ChimeraX) script with annotated structure according to \n",
    "    `B` factors in PDB file\n",
    "\n",
    "    Parameters\n",
    "    ----------\n",
    "    scriptfile : str\n",
    "        Name of CX script file to generate.\n",
    "    pdbfile : str\n",
    "        Name of .pdb file used in CX script to visualize the annotations.\n",
    "    \"\"\"\n",
    "    output = (\n",
    "        f\"open {pdbfile}.pdb\\n\"\n",
    "        \"# Select molecule by ID and annotate bfactor.\\n\"\n",
    "        \"# By default Model ID 1 is assigned.\\n\"\n",
    "        \"label #1 atoms attribute bfactor\\n\"\n",
    "    )\n",
    "\n",
    "    with open(scriptfile, \"w\") as f:\n",
    "        f.write(output)"
   ],
   "outputs": [],
   "metadata": {}
  },
  {
   "cell_type": "markdown",
   "source": [
    "Steps 1. and 2.: Generate and store the PDB\n",
    "-------------------------------------------"
   ],
   "metadata": {}
  },
  {
   "cell_type": "code",
   "execution_count": 9,
   "source": [
    "# 1. Load molecule data\n",
    "fname = \"dichloropyridine26_q+0\"\n",
    "data = load_one(find_datafile(f\"{fname}.fchk\"))\n",
    "\n",
    "# 2. Generate PDB file (fname.pdb) with scalar property as `b` factors.\n",
    "#    In this example the ESP charges are used.\n",
    "esp = data.atcharges[\"esp\"]\n",
    "pdb_assign_bfactors(fname, data, esp)\n"
   ],
   "outputs": [],
   "metadata": {
    "collapsed": false,
    "pycharm": {
     "name": "#%%\n"
    }
   }
  },
  {
   "cell_type": "markdown",
   "source": [
    "Steps 3.: Write the ChimeraX script\n",
    "------------------------------------"
   ],
   "metadata": {}
  },
  {
   "cell_type": "code",
   "execution_count": 10,
   "source": [
    "\n",
    "# 3. Generate ChimeraX script: fname.cxc\n",
    "#    To visualize the molecule, use command: $ chimerax fname.cxc\n",
    "scriptfile = fname + \".cxc\"\n",
    "print_cx_script_annotations(scriptfile, fname)"
   ],
   "outputs": [],
   "metadata": {}
  }
 ],
 "metadata": {
  "kernelspec": {
   "name": "python3",
   "display_name": "Python 3.7.10 64-bit ('qcdevs': conda)"
  },
  "language_info": {
   "name": "python",
   "version": "3.7.10",
   "mimetype": "text/x-python",
   "codemirror_mode": {
    "name": "ipython",
    "version": 3
   },
   "pygments_lexer": "ipython3",
   "nbconvert_exporter": "python",
   "file_extension": ".py"
  },
  "interpreter": {
   "hash": "e68fa89587c11695123efe36cb3c73b945022418560b0df0c9effe44838dc7cf"
  }
 },
 "nbformat": 4,
 "nbformat_minor": 2
}