{
 "cells": [
  {
   "cell_type": "markdown",
   "source": [
    "# Annotated 2D Molecular Visualization with RDKit\n",
    "\n",
    "\n",
    "Package requirements:\n",
    "---------------------\n",
    "Python 3  \n",
    "IOData  \n",
    "RDKit  \n",
    "\n",
    "\n",
    "Goal:\n",
    "-----\n",
    "Annotate and visualize a molecule with RDKit.\n",
    "\n",
    "\n",
    "The process is as follows:\n",
    "1. Save the melecule data as a PDB file thrugh IOData.\n",
    "2. Load this file with RDKit and annotate the atoms with some scalar property from IOData.\n",
    "3. Visualize the 2D drawing of the molecule.\n",
    "\n",
    "Note: Due to RDKit not parsing correctly the .sdf and .mol2 files written with IOData, in this example an .pdb is used instead. Also, the molecule's SMILES code was required to assign bond orthers."
   ],
   "metadata": {
    "collapsed": true,
    "pycharm": {
     "name": "#%% md\n"
    }
   }
  },
  {
   "cell_type": "code",
   "execution_count": 5,
   "source": [
    "#\n",
    "# Import required modules\n",
    "#\n",
    "from os import path\n",
    "import numpy as np\n",
    "from iodata import load_one, dump_one\n",
    "from rdkit.Chem import MolFromPDBFile, MolFromSmiles, AddHs, AllChem, Draw\n"
   ],
   "outputs": [],
   "metadata": {}
  },
  {
   "cell_type": "markdown",
   "source": [
    "Bellow some auxiliar functions are defined to handle finding the initial molecule file and labeling the atoms with RDKit."
   ],
   "metadata": {}
  },
  {
   "cell_type": "code",
   "execution_count": 6,
   "source": [
    "def find_datafile(fname):\n",
    "    \"\"\"Path finder helper function \"\"\"\n",
    "    # Construct absolute path and split by package name.\n",
    "    # root = path.abspath(__file__).split(\"chemtools\")[0]\n",
    "    # See stackoverflow solutions for `__file__ does not exist in Jupyter Notebook` \n",
    "    root = os.getcwd().split(\"chemtools\")[0]\n",
    "    DATAPATH = path.join(root, \"chemtools\", \"chemtools\", \"data\", \"examples\", fname)\n",
    "    return path.abspath(DATAPATH)\n",
    "\n",
    "\n",
    "def rdkit_annotate_mol(fname, smiles, values):\n",
    "    \"\"\"Label atoms with a given scalar property in RDKit\n",
    "\n",
    "    Parameters\n",
    "    ----------\n",
    "    fname : str\n",
    "        Name of .pdb file used in RDKit to visualize the annotations.\n",
    "    smiles : str\n",
    "        SMILES code for the molecule used to assign the bond orders.\n",
    "    values : list/np.ndarray\n",
    "        A (N,) sequence of float values to be annotated.\n",
    "\n",
    "    Returns\n",
    "    -------\n",
    "    RDKit molecule with annotations.\n",
    "    \"\"\"\n",
    "    # Load molecule with RDKit\n",
    "    # Assing bond orders using SMILES code\n",
    "    mol = MolFromPDBFile(fname+'.pdb', sanitize=True, removeHs=False)\n",
    "    AllChem.Compute2DCoords(mol)\n",
    "    ref= MolFromSmiles(smiles)\n",
    "    ref= AddHs(ref)\n",
    "    mol = AllChem.AssignBondOrdersFromTemplate(ref,mol)\n",
    "    \n",
    "    # Label atoms by property\n",
    "    for atom in mol.GetAtoms():\n",
    "        idx = atom.GetIdx()\n",
    "        atom.SetProp('atomNote',f\"{values[idx]:.2}\")\n",
    "    \n",
    "    return mol\n",
    "\n",
    "def rdkit_moldraw_annotated(fname, smiles, esp, addstereo=True, addatomids=False):\n",
    "    # Add labels to molecule\n",
    "    mol = rdkit_annotate_mol(fname, smiles, esp)\n",
    "    # Draw and save it\n",
    "    d = Draw.rdMolDraw2D.MolDraw2DCairo(250, 200)\n",
    "    d.drawOptions().addStereoAnnotation = addstereo\n",
    "    d.drawOptions().addAtomIndices = addatomids\n",
    "    d.DrawMolecule(mol)\n",
    "    d.WriteDrawingText(fname+'.png')"
   ],
   "outputs": [],
   "metadata": {}
  },
  {
   "cell_type": "markdown",
   "source": [
    "Step 1.: Save the melocule as a PDB file\n",
    "-------------------------------------------------"
   ],
   "metadata": {}
  },
  {
   "cell_type": "code",
   "execution_count": 7,
   "source": [
    "# 1. Load molecule data\n",
    "fname = \"dichloropyridine26_q+0\"\n",
    "smiles = 'C1=CC(=NC(=C1)Cl)Cl'\n",
    "data = load_one(find_datafile(f\"{fname}.fchk\"))\n",
    "\n",
    "# 2. Print a PDB file to be loaded by RDKit\n",
    "dump_one(data, f\"{fname}.pdb\")"
   ],
   "outputs": [],
   "metadata": {
    "collapsed": false,
    "pycharm": {
     "name": "#%%\n"
    }
   }
  },
  {
   "cell_type": "markdown",
   "source": [
    "Steps 2. and 3.: Visualize it with RDKit\n",
    "--------------------------------------------"
   ],
   "metadata": {}
  },
  {
   "cell_type": "code",
   "execution_count": 8,
   "source": [
    "# 3. Annotate the melecule with its scalar properties (e.g. atomic charges)\n",
    "#    and save the visualization.\n",
    "esp = data.atcharges[\"esp\"]\n",
    "rdkit_moldraw_annotated(fname, smiles, esp)"
   ],
   "outputs": [],
   "metadata": {}
  }
 ],
 "metadata": {
  "kernelspec": {
   "name": "python3",
   "display_name": "Python 3.7.10 64-bit ('qcdevs': conda)"
  },
  "language_info": {
   "name": "python",
   "version": "3.7.10",
   "mimetype": "text/x-python",
   "codemirror_mode": {
    "name": "ipython",
    "version": 3
   },
   "pygments_lexer": "ipython3",
   "nbconvert_exporter": "python",
   "file_extension": ".py"
  },
  "interpreter": {
   "hash": "e68fa89587c11695123efe36cb3c73b945022418560b0df0c9effe44838dc7cf"
  }
 },
 "nbformat": 4,
 "nbformat_minor": 2
}